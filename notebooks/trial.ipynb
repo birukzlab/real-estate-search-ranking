{
 "cells": [
  {
   "cell_type": "code",
   "execution_count": 30,
   "metadata": {},
   "outputs": [],
   "source": [
    "import numpy as np \n",
    "import pandas as pd \n",
    "import matplotlib.pyplot as plt \n",
    "import seaborn as sns\n"
   ]
  },
  {
   "cell_type": "code",
   "execution_count": 197,
   "metadata": {},
   "outputs": [],
   "source": [
    "df = pd.read_csv('../data/raw/realtor-data.zip.csv')\n"
   ]
  },
  {
   "attachments": {},
   "cell_type": "markdown",
   "metadata": {},
   "source": [
    "# EDA \n",
    "\n",
    "### 1. Basic Data Info\n",
    "\n",
    "\n",
    "\n",
    "realtor-data.csv (2,226,382 entries)\n",
    "\n",
    "\n",
    "brokered by (categorically encoded agency/broker)\n",
    "\n",
    "\n",
    "status (Housing status - a. ready for sale or b. ready to build)\n",
    "\n",
    "price (Housing price, it is either the current listing price or recently sold price if the house is sold recently)\n",
    "\n",
    "\n",
    "bed (# of beds)\n",
    "\n",
    "\n",
    "bath (# of bathrooms)\n",
    "\n",
    "\n",
    "acre_lot (Property / Land size in acres)\n",
    "\n",
    "\n",
    "street (categorically encoded street address)\n",
    "\n",
    "\n",
    "city (city name)\n",
    "\n",
    "\n",
    "state (state name)\n",
    "\n",
    "\n",
    "zip_code (postal code of the area)\n",
    "\n",
    "\n",
    "house_size (house area/size/living space in square feet)\n",
    "\n",
    "\n",
    "prev_sold_date (Previously sold date)"
   ]
  },
  {
   "cell_type": "code",
   "execution_count": 137,
   "metadata": {},
   "outputs": [
    {
     "name": "stdout",
     "output_type": "stream",
     "text": [
      "Shape of the dataset: (2226382, 13)\n",
      "\n",
      " The first 5 rows of the dataset    brokered_by    status     price  bed  bath  acre_lot     street  \\\n",
      "0     103378.0  for_sale  105000.0  3.0   2.0      0.12  1962661.0   \n",
      "1      52707.0  for_sale   80000.0  4.0   2.0      0.08  1902874.0   \n",
      "2     103379.0  for_sale   67000.0  2.0   1.0      0.15  1404990.0   \n",
      "3      31239.0  for_sale  145000.0  4.0   2.0      0.10  1947675.0   \n",
      "4      34632.0  for_sale   65000.0  6.0   2.0      0.05   331151.0   \n",
      "\n",
      "         city        state  zip_code  house_size prev_sold_date  lot_sqft  \n",
      "0    Adjuntas  Puerto Rico     601.0       920.0            NaN    5227.2  \n",
      "1    Adjuntas  Puerto Rico     601.0      1527.0            NaN    3484.8  \n",
      "2  Juana Diaz  Puerto Rico     795.0       748.0            NaN    6534.0  \n",
      "3       Ponce  Puerto Rico     731.0      1800.0            NaN    4356.0  \n",
      "4    Mayaguez  Puerto Rico     680.0         NaN            NaN    2178.0  \n"
     ]
    }
   ],
   "source": [
    "print(f\"Shape of the dataset: {df.shape}\")\n",
    "print(f\"\\n The first 5 rows of the dataset {df.head()}\")\n"
   ]
  },
  {
   "cell_type": "code",
   "execution_count": 193,
   "metadata": {},
   "outputs": [
    {
     "data": {
      "text/plain": [
       "brokered_by         4533\n",
       "status                 0\n",
       "price               1541\n",
       "bed               481317\n",
       "bath              511771\n",
       "acre_lot          325589\n",
       "street             10866\n",
       "city                1407\n",
       "state                  8\n",
       "zip_code             299\n",
       "house_size        568484\n",
       "prev_sold_date    734297\n",
       "dtype: int64"
      ]
     },
     "execution_count": 193,
     "metadata": {},
     "output_type": "execute_result"
    }
   ],
   "source": [
    "# Missing values\n",
    "df.isna().sum()"
   ]
  },
  {
   "attachments": {},
   "cell_type": "markdown",
   "metadata": {},
   "source": [
    "### 2. Descriptive Statistics"
   ]
  },
  {
   "cell_type": "code",
   "execution_count": 21,
   "metadata": {},
   "outputs": [
    {
     "name": "stdout",
     "output_type": "stream",
     "text": [
      "<class 'pandas.core.frame.DataFrame'>\n",
      "RangeIndex: 2226382 entries, 0 to 2226381\n",
      "Data columns (total 12 columns):\n",
      " #   Column          Dtype  \n",
      "---  ------          -----  \n",
      " 0   brokered_by     float64\n",
      " 1   status          object \n",
      " 2   price           float64\n",
      " 3   bed             float64\n",
      " 4   bath            float64\n",
      " 5   acre_lot        float64\n",
      " 6   street          float64\n",
      " 7   city            object \n",
      " 8   state           object \n",
      " 9   zip_code        float64\n",
      " 10  house_size      float64\n",
      " 11  prev_sold_date  object \n",
      "dtypes: float64(8), object(4)\n",
      "memory usage: 203.8+ MB\n",
      "Some info about the dataset: None\n",
      "\n",
      " Description         brokered_by         price           bed          bath      acre_lot  \\\n",
      "count  2.221849e+06  2.224841e+06  1.745065e+06  1.714611e+06  1.900793e+06   \n",
      "mean   5.293989e+04  5.241955e+05  3.275841e+00  2.496440e+00  1.522303e+01   \n",
      "std    3.064275e+04  2.138893e+06  1.567274e+00  1.652573e+00  7.628238e+02   \n",
      "min    0.000000e+00  0.000000e+00  1.000000e+00  1.000000e+00  0.000000e+00   \n",
      "25%    2.386100e+04  1.650000e+05  3.000000e+00  2.000000e+00  1.500000e-01   \n",
      "50%    5.288400e+04  3.250000e+05  3.000000e+00  2.000000e+00  2.600000e-01   \n",
      "75%    7.918300e+04  5.500000e+05  4.000000e+00  3.000000e+00  9.800000e-01   \n",
      "max    1.101420e+05  2.147484e+09  4.730000e+02  8.300000e+02  1.000000e+05   \n",
      "\n",
      "             street      zip_code    house_size  \n",
      "count  2.215516e+06  2.226083e+06  1.657898e+06  \n",
      "mean   1.012325e+06  5.218668e+04  2.714471e+03  \n",
      "std    5.837635e+05  2.895408e+04  8.081635e+05  \n",
      "min    0.000000e+00  0.000000e+00  4.000000e+00  \n",
      "25%    5.063128e+05  2.961700e+04  1.300000e+03  \n",
      "50%    1.012766e+06  4.838200e+04  1.760000e+03  \n",
      "75%    1.521173e+06  7.807000e+04  2.413000e+03  \n",
      "max    2.001357e+06  9.999900e+04  1.040400e+09  \n"
     ]
    }
   ],
   "source": [
    "print(f\"Some info about the dataset: {df.info()}\")\n",
    "print(f\"\\n Description {df.describe()}\")"
   ]
  },
  {
   "cell_type": "code",
   "execution_count": 195,
   "metadata": {},
   "outputs": [
    {
     "name": "stdout",
     "output_type": "stream",
     "text": [
      "Average house price 524195.5192906774\n",
      "Median house price 325000.0\n",
      "Minimum price 0.0\n",
      "Maximum price 2147483600.0\n"
     ]
    }
   ],
   "source": [
    "# Looking at price\n",
    "\n",
    "print(f\"Average house price {df['price'].mean()}\")\n",
    "print(f\"Median house price {df['price'].median()}\")\n",
    "print(f\"Minimum price {df['price'].min()}\")\n",
    "print(f\"Maximum price {df['price'].max()}\")\n",
    "\n"
   ]
  },
  {
   "cell_type": "code",
   "execution_count": 198,
   "metadata": {},
   "outputs": [
    {
     "name": "stdout",
     "output_type": "stream",
     "text": [
      "status                 0\n",
      "price                  0\n",
      "bed               480859\n",
      "bath              510984\n",
      "city                1404\n",
      "state                  0\n",
      "zip_code             296\n",
      "house_size        567872\n",
      "prev_sold_date    733248\n",
      "lot_sqft          325134\n",
      "dtype: int64\n"
     ]
    },
    {
     "data": {
      "text/html": [
       "<div>\n",
       "<style scoped>\n",
       "    .dataframe tbody tr th:only-of-type {\n",
       "        vertical-align: middle;\n",
       "    }\n",
       "\n",
       "    .dataframe tbody tr th {\n",
       "        vertical-align: top;\n",
       "    }\n",
       "\n",
       "    .dataframe thead th {\n",
       "        text-align: right;\n",
       "    }\n",
       "</style>\n",
       "<table border=\"1\" class=\"dataframe\">\n",
       "  <thead>\n",
       "    <tr style=\"text-align: right;\">\n",
       "      <th></th>\n",
       "      <th>status</th>\n",
       "      <th>price</th>\n",
       "      <th>bed</th>\n",
       "      <th>bath</th>\n",
       "      <th>city</th>\n",
       "      <th>state</th>\n",
       "      <th>zip_code</th>\n",
       "      <th>house_size</th>\n",
       "      <th>prev_sold_date</th>\n",
       "      <th>lot_sqft</th>\n",
       "    </tr>\n",
       "  </thead>\n",
       "  <tbody>\n",
       "    <tr>\n",
       "      <th>0</th>\n",
       "      <td>for_sale</td>\n",
       "      <td>105000.0</td>\n",
       "      <td>3.0</td>\n",
       "      <td>2.0</td>\n",
       "      <td>Adjuntas</td>\n",
       "      <td>Puerto Rico</td>\n",
       "      <td>601.0</td>\n",
       "      <td>920.0</td>\n",
       "      <td>NaN</td>\n",
       "      <td>5227.2</td>\n",
       "    </tr>\n",
       "    <tr>\n",
       "      <th>1</th>\n",
       "      <td>for_sale</td>\n",
       "      <td>80000.0</td>\n",
       "      <td>4.0</td>\n",
       "      <td>2.0</td>\n",
       "      <td>Adjuntas</td>\n",
       "      <td>Puerto Rico</td>\n",
       "      <td>601.0</td>\n",
       "      <td>1527.0</td>\n",
       "      <td>NaN</td>\n",
       "      <td>3484.8</td>\n",
       "    </tr>\n",
       "    <tr>\n",
       "      <th>2</th>\n",
       "      <td>for_sale</td>\n",
       "      <td>67000.0</td>\n",
       "      <td>2.0</td>\n",
       "      <td>1.0</td>\n",
       "      <td>Juana Diaz</td>\n",
       "      <td>Puerto Rico</td>\n",
       "      <td>795.0</td>\n",
       "      <td>748.0</td>\n",
       "      <td>NaN</td>\n",
       "      <td>6534.0</td>\n",
       "    </tr>\n",
       "    <tr>\n",
       "      <th>3</th>\n",
       "      <td>for_sale</td>\n",
       "      <td>145000.0</td>\n",
       "      <td>4.0</td>\n",
       "      <td>2.0</td>\n",
       "      <td>Ponce</td>\n",
       "      <td>Puerto Rico</td>\n",
       "      <td>731.0</td>\n",
       "      <td>1800.0</td>\n",
       "      <td>NaN</td>\n",
       "      <td>4356.0</td>\n",
       "    </tr>\n",
       "    <tr>\n",
       "      <th>4</th>\n",
       "      <td>for_sale</td>\n",
       "      <td>65000.0</td>\n",
       "      <td>6.0</td>\n",
       "      <td>2.0</td>\n",
       "      <td>Mayaguez</td>\n",
       "      <td>Puerto Rico</td>\n",
       "      <td>680.0</td>\n",
       "      <td>NaN</td>\n",
       "      <td>NaN</td>\n",
       "      <td>2178.0</td>\n",
       "    </tr>\n",
       "  </tbody>\n",
       "</table>\n",
       "</div>"
      ],
      "text/plain": [
       "     status     price  bed  bath        city        state  zip_code  \\\n",
       "0  for_sale  105000.0  3.0   2.0    Adjuntas  Puerto Rico     601.0   \n",
       "1  for_sale   80000.0  4.0   2.0    Adjuntas  Puerto Rico     601.0   \n",
       "2  for_sale   67000.0  2.0   1.0  Juana Diaz  Puerto Rico     795.0   \n",
       "3  for_sale  145000.0  4.0   2.0       Ponce  Puerto Rico     731.0   \n",
       "4  for_sale   65000.0  6.0   2.0    Mayaguez  Puerto Rico     680.0   \n",
       "\n",
       "   house_size prev_sold_date  lot_sqft  \n",
       "0       920.0            NaN    5227.2  \n",
       "1      1527.0            NaN    3484.8  \n",
       "2       748.0            NaN    6534.0  \n",
       "3      1800.0            NaN    4356.0  \n",
       "4         NaN            NaN    2178.0  "
      ]
     },
     "execution_count": 198,
     "metadata": {},
     "output_type": "execute_result"
    }
   ],
   "source": [
    "# change acre to lot size\n",
    "df['lot_sqft'] = df['acre_lot'] * 43560\n",
    "# drop columns: brokered_by and street - Irrelavant\n",
    "df.drop(columns= ['street', 'brokered_by', 'acre_lot'], inplace=True)\n",
    "# Drop rows where price or state is missing\n",
    "df = df.dropna(subset=['price', 'state'])\n",
    "print(df.isna().sum())\n",
    "df.head()\n"
   ]
  },
  {
   "attachments": {},
   "cell_type": "markdown",
   "metadata": {},
   "source": [
    "### Deal with Missing values first"
   ]
  },
  {
   "cell_type": "code",
   "execution_count": 200,
   "metadata": {},
   "outputs": [
    {
     "data": {
      "text/plain": [
       "Index(['status', 'price', 'bed', 'bath', 'city', 'state', 'zip_code',\n",
       "       'house_size', 'prev_sold_date', 'lot_sqft'],\n",
       "      dtype='object')"
      ]
     },
     "execution_count": 200,
     "metadata": {},
     "output_type": "execute_result"
    }
   ],
   "source": [
    "df.columns"
   ]
  },
  {
   "cell_type": "code",
   "execution_count": 201,
   "metadata": {},
   "outputs": [
    {
     "name": "stdout",
     "output_type": "stream",
     "text": [
      "0.0\n",
      "0.0\n",
      "21.61\n",
      "22.97\n",
      "0.06\n",
      "0.0\n",
      "0.01\n",
      "25.52\n",
      "32.96\n",
      "14.61\n"
     ]
    }
   ],
   "source": [
    "columns = ['status', 'price', 'bed', 'bath',\n",
    "       'city', 'state', 'zip_code', 'house_size', 'prev_sold_date',\n",
    "       'lot_sqft']\n",
    "for i in columns:\n",
    "    print(round(df[i].isna().sum() / df[i].shape[0] * 100, 2))"
   ]
  },
  {
   "cell_type": "code",
   "execution_count": 202,
   "metadata": {},
   "outputs": [],
   "source": [
    "def missing_percent(df, columns):\n",
    "    \"\"\"\n",
    "    Calculate missng values in percent for each specified column\n",
    "\n",
    "    Args:\n",
    "        df: Dataframe - input DataFrame\n",
    "        columns list - List of columns to check\n",
    "    returns:\n",
    "        dict: Dictionary with column name as keys and missing percentage\n",
    "    \"\"\"\n",
    "    missing_percentage = {}\n",
    "    \n",
    "    for col in columns:\n",
    "        percent = (df[col].isna().sum() / len(df)) * 100\n",
    "        missing_percentage[col] = round((percent), 2)\n",
    "        \n",
    "    return missing_percentage"
   ]
  },
  {
   "cell_type": "code",
   "execution_count": 204,
   "metadata": {},
   "outputs": [
    {
     "data": {
      "text/plain": [
       "{'status': np.float64(0.0),\n",
       " 'price': np.float64(0.0),\n",
       " 'bed': np.float64(21.61),\n",
       " 'bath': np.float64(22.97),\n",
       " 'city': np.float64(0.06),\n",
       " 'state': np.float64(0.0),\n",
       " 'zip_code': np.float64(0.01),\n",
       " 'house_size': np.float64(25.52),\n",
       " 'prev_sold_date': np.float64(32.96),\n",
       " 'lot_sqft': np.float64(14.61)}"
      ]
     },
     "execution_count": 204,
     "metadata": {},
     "output_type": "execute_result"
    }
   ],
   "source": [
    "cols_to_check = ['status', 'price', 'bed', 'bath',\n",
    "       'city', 'state', 'zip_code', 'house_size', 'prev_sold_date',\n",
    "       'lot_sqft']\n",
    "\n",
    "missing_values = missing_percent(df, cols_to_check)\n",
    "missing_values"
   ]
  },
  {
   "cell_type": "code",
   "execution_count": 205,
   "metadata": {},
   "outputs": [
    {
     "name": "stdout",
     "output_type": "stream",
     "text": [
      "status: 0.0% missing\n",
      "price: 0.0% missing\n",
      "bed: 21.61% missing\n",
      "bath: 22.97% missing\n",
      "city: 0.06% missing\n",
      "state: 0.0% missing\n",
      "zip_code: 0.01% missing\n",
      "house_size: 25.52% missing\n",
      "prev_sold_date: 32.96% missing\n",
      "lot_sqft: 14.61% missing\n"
     ]
    }
   ],
   "source": [
    "for col, pct in missing_values.items():\n",
    "    print(f\"{col}: {pct}% missing\")"
   ]
  },
  {
   "cell_type": "code",
   "execution_count": 206,
   "metadata": {},
   "outputs": [],
   "source": [
    "# Dealing with missing values\n",
    "def handle_missing_values(df, cols_to_check):\n",
    "    df = df.copy()\n",
    "    missing_values = missing_percent(df, cols_to_check)\n",
    "    for col, pct in missing_values.items():\n",
    "        if pct > 30:\n",
    "            print(f\"Dropping column '{col}' with {pct}% missing data.\")\n",
    "            df.drop(columns = [col], inplace=True)\n",
    "        elif 0 < pct < 30:\n",
    "            if df[col].dtype in ['float64', 'int64']:\n",
    "                print(f\"Filling numeric column {col} with median.\")\n",
    "                df[col].fillna(df[col].median, inplace=True)\n",
    "            else:\n",
    "                print(\"Filling Categorical column '{col}' with mode.\")\n",
    "                df[col].fillna(df[col].mode()[0], inplace=True)\n",
    "    return df\n",
    "        \n",
    "\n",
    "    "
   ]
  },
  {
   "cell_type": "code",
   "execution_count": 207,
   "metadata": {},
   "outputs": [
    {
     "data": {
      "text/plain": [
       "Index(['status', 'price', 'bed', 'bath', 'city', 'state', 'zip_code',\n",
       "       'house_size', 'prev_sold_date', 'lot_sqft'],\n",
       "      dtype='object')"
      ]
     },
     "execution_count": 207,
     "metadata": {},
     "output_type": "execute_result"
    }
   ],
   "source": [
    "df.columns"
   ]
  },
  {
   "cell_type": "code",
   "execution_count": 208,
   "metadata": {},
   "outputs": [
    {
     "name": "stdout",
     "output_type": "stream",
     "text": [
      "Filling numeric column bed with median.\n",
      "Filling numeric column bath with median.\n",
      "Filling Categorical column '{col}' with mode.\n"
     ]
    },
    {
     "name": "stderr",
     "output_type": "stream",
     "text": [
      "/var/folders/h4/4f1dd3392y134gkcvw6sfk1r0000gn/T/ipykernel_17063/4256703469.py:12: FutureWarning: Setting an item of incompatible dtype is deprecated and will raise an error in a future version of pandas. Value '<bound method Series.median of 0          3.0\n",
      "1          4.0\n",
      "2          2.0\n",
      "3          4.0\n",
      "4          6.0\n",
      "          ... \n",
      "2226377    4.0\n",
      "2226378    3.0\n",
      "2226379    6.0\n",
      "2226380    2.0\n",
      "2226381    5.0\n",
      "Name: bed, Length: 2224833, dtype: float64>' has dtype incompatible with float64, please explicitly cast to a compatible dtype first.\n",
      "  df[col].fillna(df[col].median, inplace=True)\n",
      "/var/folders/h4/4f1dd3392y134gkcvw6sfk1r0000gn/T/ipykernel_17063/4256703469.py:12: FutureWarning: Setting an item of incompatible dtype is deprecated and will raise an error in a future version of pandas. Value '<bound method Series.median of 0          2.0\n",
      "1          2.0\n",
      "2          1.0\n",
      "3          2.0\n",
      "4          2.0\n",
      "          ... \n",
      "2226377    2.0\n",
      "2226378    2.0\n",
      "2226379    3.0\n",
      "2226380    1.0\n",
      "2226381    3.0\n",
      "Name: bath, Length: 2224833, dtype: float64>' has dtype incompatible with float64, please explicitly cast to a compatible dtype first.\n",
      "  df[col].fillna(df[col].median, inplace=True)\n",
      "/var/folders/h4/4f1dd3392y134gkcvw6sfk1r0000gn/T/ipykernel_17063/4256703469.py:15: FutureWarning: A value is trying to be set on a copy of a DataFrame or Series through chained assignment using an inplace method.\n",
      "The behavior will change in pandas 3.0. This inplace method will never work because the intermediate object on which we are setting values always behaves as a copy.\n",
      "\n",
      "For example, when doing 'df[col].method(value, inplace=True)', try using 'df.method({col: value}, inplace=True)' or df[col] = df[col].method(value) instead, to perform the operation inplace on the original object.\n",
      "\n",
      "\n",
      "  df[col].fillna(df[col].mode()[0], inplace=True)\n"
     ]
    },
    {
     "name": "stdout",
     "output_type": "stream",
     "text": [
      "Filling numeric column zip_code with median.\n",
      "Filling numeric column house_size with median.\n",
      "Dropping column 'prev_sold_date' with 32.96% missing data.\n"
     ]
    },
    {
     "name": "stderr",
     "output_type": "stream",
     "text": [
      "/var/folders/h4/4f1dd3392y134gkcvw6sfk1r0000gn/T/ipykernel_17063/4256703469.py:12: FutureWarning: Setting an item of incompatible dtype is deprecated and will raise an error in a future version of pandas. Value '<bound method Series.median of 0            601.0\n",
      "1            601.0\n",
      "2            795.0\n",
      "3            731.0\n",
      "4            680.0\n",
      "            ...   \n",
      "2226377    99354.0\n",
      "2226378    99354.0\n",
      "2226379    99354.0\n",
      "2226380    99354.0\n",
      "2226381    99354.0\n",
      "Name: zip_code, Length: 2224833, dtype: float64>' has dtype incompatible with float64, please explicitly cast to a compatible dtype first.\n",
      "  df[col].fillna(df[col].median, inplace=True)\n",
      "/var/folders/h4/4f1dd3392y134gkcvw6sfk1r0000gn/T/ipykernel_17063/4256703469.py:12: FutureWarning: Setting an item of incompatible dtype is deprecated and will raise an error in a future version of pandas. Value '<bound method Series.median of 0           920.0\n",
      "1          1527.0\n",
      "2           748.0\n",
      "3          1800.0\n",
      "4             NaN\n",
      "            ...  \n",
      "2226377    3600.0\n",
      "2226378    1616.0\n",
      "2226379    3200.0\n",
      "2226380     933.0\n",
      "2226381    3615.0\n",
      "Name: house_size, Length: 2224833, dtype: float64>' has dtype incompatible with float64, please explicitly cast to a compatible dtype first.\n",
      "  df[col].fillna(df[col].median, inplace=True)\n"
     ]
    },
    {
     "name": "stdout",
     "output_type": "stream",
     "text": [
      "Filling numeric column lot_sqft with median.\n"
     ]
    },
    {
     "name": "stderr",
     "output_type": "stream",
     "text": [
      "/var/folders/h4/4f1dd3392y134gkcvw6sfk1r0000gn/T/ipykernel_17063/4256703469.py:12: FutureWarning: Setting an item of incompatible dtype is deprecated and will raise an error in a future version of pandas. Value '<bound method Series.median of 0           5227.2\n",
      "1           3484.8\n",
      "2           6534.0\n",
      "3           4356.0\n",
      "4           2178.0\n",
      "            ...   \n",
      "2226377    14374.8\n",
      "2226378     4356.0\n",
      "2226379    21780.0\n",
      "2226380     3920.4\n",
      "2226381    13503.6\n",
      "Name: lot_sqft, Length: 2224833, dtype: float64>' has dtype incompatible with float64, please explicitly cast to a compatible dtype first.\n",
      "  df[col].fillna(df[col].median, inplace=True)\n"
     ]
    }
   ],
   "source": [
    "cols_to_check = ['status', 'price', 'bed', 'bath',\n",
    "       'city', 'state', 'zip_code', 'house_size', 'prev_sold_date',\n",
    "       'lot_sqft']\n",
    "clean_data=handle_missing_values(df, cols_to_check)\n"
   ]
  },
  {
   "cell_type": "code",
   "execution_count": 211,
   "metadata": {},
   "outputs": [
    {
     "name": "stdout",
     "output_type": "stream",
     "text": [
      "(2224833, 10)\n"
     ]
    }
   ],
   "source": [
    "print(df.shape)"
   ]
  },
  {
   "cell_type": "code",
   "execution_count": 210,
   "metadata": {},
   "outputs": [
    {
     "data": {
      "text/plain": [
       "status        0\n",
       "price         0\n",
       "bed           0\n",
       "bath          0\n",
       "city          0\n",
       "state         0\n",
       "zip_code      0\n",
       "house_size    0\n",
       "lot_sqft      0\n",
       "dtype: int64"
      ]
     },
     "execution_count": 210,
     "metadata": {},
     "output_type": "execute_result"
    }
   ],
   "source": [
    "clean_data.isna().sum()"
   ]
  },
  {
   "cell_type": "code",
   "execution_count": null,
   "metadata": {},
   "outputs": [],
   "source": []
  },
  {
   "attachments": {},
   "cell_type": "markdown",
   "metadata": {},
   "source": [
    "### Outliers\n",
    "\n",
    "Mainly for numeric values"
   ]
  },
  {
   "cell_type": "code",
   "execution_count": 215,
   "metadata": {},
   "outputs": [
    {
     "data": {
      "text/plain": [
       "np.float64(0.0)"
      ]
     },
     "execution_count": 215,
     "metadata": {},
     "output_type": "execute_result"
    }
   ],
   "source": [
    "df['price'].min()"
   ]
  },
  {
   "cell_type": "code",
   "execution_count": 216,
   "metadata": {},
   "outputs": [
    {
     "data": {
      "text/html": [
       "<div>\n",
       "<style scoped>\n",
       "    .dataframe tbody tr th:only-of-type {\n",
       "        vertical-align: middle;\n",
       "    }\n",
       "\n",
       "    .dataframe tbody tr th {\n",
       "        vertical-align: top;\n",
       "    }\n",
       "\n",
       "    .dataframe thead th {\n",
       "        text-align: right;\n",
       "    }\n",
       "</style>\n",
       "<table border=\"1\" class=\"dataframe\">\n",
       "  <thead>\n",
       "    <tr style=\"text-align: right;\">\n",
       "      <th></th>\n",
       "      <th>status</th>\n",
       "      <th>price</th>\n",
       "      <th>bed</th>\n",
       "      <th>bath</th>\n",
       "      <th>city</th>\n",
       "      <th>state</th>\n",
       "      <th>zip_code</th>\n",
       "      <th>house_size</th>\n",
       "      <th>prev_sold_date</th>\n",
       "      <th>lot_sqft</th>\n",
       "    </tr>\n",
       "  </thead>\n",
       "  <tbody>\n",
       "    <tr>\n",
       "      <th>4105</th>\n",
       "      <td>for_sale</td>\n",
       "      <td>10000.0</td>\n",
       "      <td>NaN</td>\n",
       "      <td>NaN</td>\n",
       "      <td>Florida</td>\n",
       "      <td>Massachusetts</td>\n",
       "      <td>1247.0</td>\n",
       "      <td>NaN</td>\n",
       "      <td>NaN</td>\n",
       "      <td>20037.6</td>\n",
       "    </tr>\n",
       "    <tr>\n",
       "      <th>4107</th>\n",
       "      <td>for_sale</td>\n",
       "      <td>10000.0</td>\n",
       "      <td>NaN</td>\n",
       "      <td>NaN</td>\n",
       "      <td>Florida</td>\n",
       "      <td>Massachusetts</td>\n",
       "      <td>1247.0</td>\n",
       "      <td>NaN</td>\n",
       "      <td>NaN</td>\n",
       "      <td>13068.0</td>\n",
       "    </tr>\n",
       "    <tr>\n",
       "      <th>4108</th>\n",
       "      <td>for_sale</td>\n",
       "      <td>9900.0</td>\n",
       "      <td>NaN</td>\n",
       "      <td>NaN</td>\n",
       "      <td>Florida</td>\n",
       "      <td>Massachusetts</td>\n",
       "      <td>1247.0</td>\n",
       "      <td>NaN</td>\n",
       "      <td>NaN</td>\n",
       "      <td>29185.2</td>\n",
       "    </tr>\n",
       "    <tr>\n",
       "      <th>4123</th>\n",
       "      <td>for_sale</td>\n",
       "      <td>10000.0</td>\n",
       "      <td>NaN</td>\n",
       "      <td>NaN</td>\n",
       "      <td>Becket</td>\n",
       "      <td>Massachusetts</td>\n",
       "      <td>1223.0</td>\n",
       "      <td>NaN</td>\n",
       "      <td>NaN</td>\n",
       "      <td>27007.2</td>\n",
       "    </tr>\n",
       "    <tr>\n",
       "      <th>4162</th>\n",
       "      <td>for_sale</td>\n",
       "      <td>9500.0</td>\n",
       "      <td>NaN</td>\n",
       "      <td>NaN</td>\n",
       "      <td>Becket</td>\n",
       "      <td>Massachusetts</td>\n",
       "      <td>1223.0</td>\n",
       "      <td>NaN</td>\n",
       "      <td>NaN</td>\n",
       "      <td>12196.8</td>\n",
       "    </tr>\n",
       "    <tr>\n",
       "      <th>...</th>\n",
       "      <td>...</td>\n",
       "      <td>...</td>\n",
       "      <td>...</td>\n",
       "      <td>...</td>\n",
       "      <td>...</td>\n",
       "      <td>...</td>\n",
       "      <td>...</td>\n",
       "      <td>...</td>\n",
       "      <td>...</td>\n",
       "      <td>...</td>\n",
       "    </tr>\n",
       "    <tr>\n",
       "      <th>2220629</th>\n",
       "      <td>sold</td>\n",
       "      <td>8500.0</td>\n",
       "      <td>NaN</td>\n",
       "      <td>NaN</td>\n",
       "      <td>Ephrata</td>\n",
       "      <td>Washington</td>\n",
       "      <td>98823.0</td>\n",
       "      <td>NaN</td>\n",
       "      <td>2021-11-19</td>\n",
       "      <td>55321.2</td>\n",
       "    </tr>\n",
       "    <tr>\n",
       "      <th>2220767</th>\n",
       "      <td>sold</td>\n",
       "      <td>7500.0</td>\n",
       "      <td>NaN</td>\n",
       "      <td>NaN</td>\n",
       "      <td>Ephrata</td>\n",
       "      <td>Washington</td>\n",
       "      <td>98823.0</td>\n",
       "      <td>NaN</td>\n",
       "      <td>2022-03-08</td>\n",
       "      <td>57063.6</td>\n",
       "    </tr>\n",
       "    <tr>\n",
       "      <th>2220813</th>\n",
       "      <td>sold</td>\n",
       "      <td>10000.0</td>\n",
       "      <td>NaN</td>\n",
       "      <td>NaN</td>\n",
       "      <td>Okanogan</td>\n",
       "      <td>Washington</td>\n",
       "      <td>98840.0</td>\n",
       "      <td>NaN</td>\n",
       "      <td>2022-04-22</td>\n",
       "      <td>10890.0</td>\n",
       "    </tr>\n",
       "    <tr>\n",
       "      <th>2221007</th>\n",
       "      <td>sold</td>\n",
       "      <td>1695.0</td>\n",
       "      <td>3.0</td>\n",
       "      <td>4.0</td>\n",
       "      <td>Leavenworth</td>\n",
       "      <td>Washington</td>\n",
       "      <td>98826.0</td>\n",
       "      <td>3910.0</td>\n",
       "      <td>2022-01-25</td>\n",
       "      <td>43560.0</td>\n",
       "    </tr>\n",
       "    <tr>\n",
       "      <th>2226268</th>\n",
       "      <td>sold</td>\n",
       "      <td>7.0</td>\n",
       "      <td>NaN</td>\n",
       "      <td>NaN</td>\n",
       "      <td>Richland</td>\n",
       "      <td>Washington</td>\n",
       "      <td>99362.0</td>\n",
       "      <td>NaN</td>\n",
       "      <td>2021-11-12</td>\n",
       "      <td>2090880.0</td>\n",
       "    </tr>\n",
       "  </tbody>\n",
       "</table>\n",
       "<p>22971 rows × 10 columns</p>\n",
       "</div>"
      ],
      "text/plain": [
       "           status    price  bed  bath         city          state  zip_code  \\\n",
       "4105     for_sale  10000.0  NaN   NaN      Florida  Massachusetts    1247.0   \n",
       "4107     for_sale  10000.0  NaN   NaN      Florida  Massachusetts    1247.0   \n",
       "4108     for_sale   9900.0  NaN   NaN      Florida  Massachusetts    1247.0   \n",
       "4123     for_sale  10000.0  NaN   NaN       Becket  Massachusetts    1223.0   \n",
       "4162     for_sale   9500.0  NaN   NaN       Becket  Massachusetts    1223.0   \n",
       "...           ...      ...  ...   ...          ...            ...       ...   \n",
       "2220629      sold   8500.0  NaN   NaN      Ephrata     Washington   98823.0   \n",
       "2220767      sold   7500.0  NaN   NaN      Ephrata     Washington   98823.0   \n",
       "2220813      sold  10000.0  NaN   NaN     Okanogan     Washington   98840.0   \n",
       "2221007      sold   1695.0  3.0   4.0  Leavenworth     Washington   98826.0   \n",
       "2226268      sold      7.0  NaN   NaN     Richland     Washington   99362.0   \n",
       "\n",
       "         house_size prev_sold_date   lot_sqft  \n",
       "4105            NaN            NaN    20037.6  \n",
       "4107            NaN            NaN    13068.0  \n",
       "4108            NaN            NaN    29185.2  \n",
       "4123            NaN            NaN    27007.2  \n",
       "4162            NaN            NaN    12196.8  \n",
       "...             ...            ...        ...  \n",
       "2220629         NaN     2021-11-19    55321.2  \n",
       "2220767         NaN     2022-03-08    57063.6  \n",
       "2220813         NaN     2022-04-22    10890.0  \n",
       "2221007      3910.0     2022-01-25    43560.0  \n",
       "2226268         NaN     2021-11-12  2090880.0  \n",
       "\n",
       "[22971 rows x 10 columns]"
      ]
     },
     "execution_count": 216,
     "metadata": {},
     "output_type": "execute_result"
    }
   ],
   "source": [
    "df[(df['price'] <= 10000)]"
   ]
  },
  {
   "cell_type": "code",
   "execution_count": 218,
   "metadata": {},
   "outputs": [
    {
     "data": {
      "image/png": "[encoded data removed]",
      "text/plain": [
       "<Figure size 1600x1000 with 6 Axes>"
      ]
     },
     "metadata": {},
     "output_type": "display_data"
    }
   ],
   "source": [
    "df[['price', 'bed', 'bath', 'house_size', 'lot_sqft']].hist(bins=50,\n",
    "                figsize=(16, 10))\n",
    "plt.tight_layout()\n",
    "plt.show()"
   ]
  },
  {
   "cell_type": "code",
   "execution_count": 236,
   "metadata": {},
   "outputs": [
    {
     "data": {
      "text/plain": [
       "Index(['status', 'price', 'bed', 'bath', 'city', 'state', 'zip_code',\n",
       "       'house_size', 'prev_sold_date', 'lot_sqft'],\n",
       "      dtype='object')"
      ]
     },
     "execution_count": 236,
     "metadata": {},
     "output_type": "execute_result"
    }
   ],
   "source": [
    "df.columns"
   ]
  },
  {
   "cell_type": "code",
   "execution_count": 237,
   "metadata": {},
   "outputs": [
    {
     "data": {
      "image/png": "[encoded data removed]",
      "text/plain": [
       "<Figure size 1800x1000 with 6 Axes>"
      ]
     },
     "metadata": {},
     "output_type": "display_data"
    }
   ],
   "source": [
    "# Select columns for outliers\n",
    "df_for_outliers=df[['price', 'bed', 'bath', 'house_size', 'lot_sqft']]\n",
    "\n",
    "fig, axes = plt.subplots(nrows=2, ncols=3, figsize = (18, 10))\n",
    "\n",
    "axes = axes.flatten()\n",
    "\n",
    "for idx, col in enumerate(df_for_outliers.columns):\n",
    "    sns.boxplot(x=df_for_outliers[col], ax=axes[idx])\n",
    "    axes[idx].set_title(col)\n",
    "    \n",
    "plt.tight_layout()\n",
    "plt.show()"
   ]
  },
  {
   "cell_type": "code",
   "execution_count": 242,
   "metadata": {},
   "outputs": [
    {
     "name": "stdout",
     "output_type": "stream",
     "text": [
      "Price\n",
      "Price 3996\n",
      "19270\n",
      "\n",
      " Bed\n",
      "3728\n",
      "0\n",
      "\n",
      " bath\n",
      "2300\n",
      "0\n",
      "\n",
      " house_size\n",
      "1529\n",
      "1\n",
      "\n",
      " lot_sqft\n",
      "67954\n",
      "2225\n"
     ]
    }
   ],
   "source": [
    "# Double clicking in each of the columns to see the extreme points - outliers\n",
    "#Price - outliers\n",
    "print(\"Price\")\n",
    "print(\"Price\", df[df['price'] > 10000000].shape[0])  # about 4000 rows with price over 10 million\n",
    "print(df[df['price'] < 10000].shape[0])\n",
    "\n",
    "# Bed\n",
    "print(\"\\n Bed\")\n",
    "print(df[df['bed'] > 10].shape[0]) \n",
    "print(df[df['bed'] < 1].shape[0])\n",
    "\n",
    "# Bath\n",
    "print(\"\\n bath\")\n",
    "print(df[df['bath'] > 10].shape[0]) \n",
    "print(df[df['bath'] < 1].shape[0])\n",
    "\n",
    "# house_size sqft\n",
    "print(\"\\n house_size\")\n",
    "print(df[df['house_size'] > 15000].shape[0]) \n",
    "print(df[df['house_size'] < 100].shape[0]) \n",
    "\n",
    "\n",
    "\n",
    "# lot_sqft\n",
    "print(\"\\n lot_sqft\")\n",
    "print(df[df['lot_sqft'] > 1000000].shape[0]) \n",
    "print(df[df['lot_sqft'] < 100].shape[0])\n",
    "\n",
    "\n"
   ]
  },
  {
   "cell_type": "code",
   "execution_count": 243,
   "metadata": {},
   "outputs": [
    {
     "data": {
      "text/html": [
       "<div>\n",
       "<style scoped>\n",
       "    .dataframe tbody tr th:only-of-type {\n",
       "        vertical-align: middle;\n",
       "    }\n",
       "\n",
       "    .dataframe tbody tr th {\n",
       "        vertical-align: top;\n",
       "    }\n",
       "\n",
       "    .dataframe thead th {\n",
       "        text-align: right;\n",
       "    }\n",
       "</style>\n",
       "<table border=\"1\" class=\"dataframe\">\n",
       "  <thead>\n",
       "    <tr style=\"text-align: right;\">\n",
       "      <th></th>\n",
       "      <th>status</th>\n",
       "      <th>price</th>\n",
       "      <th>bed</th>\n",
       "      <th>bath</th>\n",
       "      <th>city</th>\n",
       "      <th>state</th>\n",
       "      <th>zip_code</th>\n",
       "      <th>house_size</th>\n",
       "      <th>prev_sold_date</th>\n",
       "      <th>lot_sqft</th>\n",
       "    </tr>\n",
       "  </thead>\n",
       "  <tbody>\n",
       "    <tr>\n",
       "      <th>0</th>\n",
       "      <td>for_sale</td>\n",
       "      <td>105000.0</td>\n",
       "      <td>3.0</td>\n",
       "      <td>2.0</td>\n",
       "      <td>Adjuntas</td>\n",
       "      <td>Puerto Rico</td>\n",
       "      <td>601.0</td>\n",
       "      <td>920.0</td>\n",
       "      <td>NaN</td>\n",
       "      <td>5227.2</td>\n",
       "    </tr>\n",
       "    <tr>\n",
       "      <th>1</th>\n",
       "      <td>for_sale</td>\n",
       "      <td>80000.0</td>\n",
       "      <td>4.0</td>\n",
       "      <td>2.0</td>\n",
       "      <td>Adjuntas</td>\n",
       "      <td>Puerto Rico</td>\n",
       "      <td>601.0</td>\n",
       "      <td>1527.0</td>\n",
       "      <td>NaN</td>\n",
       "      <td>3484.8</td>\n",
       "    </tr>\n",
       "    <tr>\n",
       "      <th>2</th>\n",
       "      <td>for_sale</td>\n",
       "      <td>67000.0</td>\n",
       "      <td>2.0</td>\n",
       "      <td>1.0</td>\n",
       "      <td>Juana Diaz</td>\n",
       "      <td>Puerto Rico</td>\n",
       "      <td>795.0</td>\n",
       "      <td>748.0</td>\n",
       "      <td>NaN</td>\n",
       "      <td>6534.0</td>\n",
       "    </tr>\n",
       "    <tr>\n",
       "      <th>3</th>\n",
       "      <td>for_sale</td>\n",
       "      <td>145000.0</td>\n",
       "      <td>4.0</td>\n",
       "      <td>2.0</td>\n",
       "      <td>Ponce</td>\n",
       "      <td>Puerto Rico</td>\n",
       "      <td>731.0</td>\n",
       "      <td>1800.0</td>\n",
       "      <td>NaN</td>\n",
       "      <td>4356.0</td>\n",
       "    </tr>\n",
       "    <tr>\n",
       "      <th>5</th>\n",
       "      <td>for_sale</td>\n",
       "      <td>179000.0</td>\n",
       "      <td>4.0</td>\n",
       "      <td>3.0</td>\n",
       "      <td>San Sebastian</td>\n",
       "      <td>Puerto Rico</td>\n",
       "      <td>612.0</td>\n",
       "      <td>2520.0</td>\n",
       "      <td>NaN</td>\n",
       "      <td>20037.6</td>\n",
       "    </tr>\n",
       "  </tbody>\n",
       "</table>\n",
       "</div>"
      ],
      "text/plain": [
       "     status     price  bed  bath           city        state  zip_code  \\\n",
       "0  for_sale  105000.0  3.0   2.0       Adjuntas  Puerto Rico     601.0   \n",
       "1  for_sale   80000.0  4.0   2.0       Adjuntas  Puerto Rico     601.0   \n",
       "2  for_sale   67000.0  2.0   1.0     Juana Diaz  Puerto Rico     795.0   \n",
       "3  for_sale  145000.0  4.0   2.0          Ponce  Puerto Rico     731.0   \n",
       "5  for_sale  179000.0  4.0   3.0  San Sebastian  Puerto Rico     612.0   \n",
       "\n",
       "   house_size prev_sold_date  lot_sqft  \n",
       "0       920.0            NaN    5227.2  \n",
       "1      1527.0            NaN    3484.8  \n",
       "2       748.0            NaN    6534.0  \n",
       "3      1800.0            NaN    4356.0  \n",
       "5      2520.0            NaN   20037.6  "
      ]
     },
     "execution_count": 243,
     "metadata": {},
     "output_type": "execute_result"
    }
   ],
   "source": [
    "# Drop rows with crazy values\n",
    "df_cleaned = df[\n",
    "    (df['price'] >= 10000) & (df['price'] <= 10000000) &\n",
    "    (df['bed'] <= 10) &\n",
    "    (df['bath'] <= 10) &\n",
    "    (df['house_size'] >= 100) & (df['house_size'] <= 15000) &\n",
    "    (df['lot_sqft'] >= 100) & (df['lot_sqft'] <= 1000000)\n",
    "]\n",
    "df_cleaned.head()"
   ]
  },
  {
   "cell_type": "code",
   "execution_count": 244,
   "metadata": {},
   "outputs": [
    {
     "data": {
      "text/plain": [
       "(1335704, 10)"
      ]
     },
     "execution_count": 244,
     "metadata": {},
     "output_type": "execute_result"
    }
   ],
   "source": [
    "df_cleaned.shape"
   ]
  },
  {
   "cell_type": "code",
   "execution_count": 245,
   "metadata": {},
   "outputs": [
    {
     "data": {
      "image/png": "[encoded data removed]",
      "text/plain": [
       "<Figure size 1800x1000 with 6 Axes>"
      ]
     },
     "metadata": {},
     "output_type": "display_data"
    }
   ],
   "source": [
    "# Select columns for outliers - replottig after fixing the outliers\n",
    "df_for_outliers=df_cleaned[['price', 'bed', 'bath', 'house_size', 'lot_sqft']]\n",
    "\n",
    "fig, axes = plt.subplots(nrows=2, ncols=3, figsize = (18, 10))\n",
    "\n",
    "axes = axes.flatten()\n",
    "\n",
    "for idx, col in enumerate(df_for_outliers.columns):\n",
    "    sns.boxplot(x=df_for_outliers[col], ax=axes[idx])\n",
    "    axes[idx].set_title(col)\n",
    "    \n",
    "plt.tight_layout()\n",
    "plt.show()"
   ]
  }
 ],
 "metadata": {
  "kernelspec": {
   "display_name": "venv",
   "language": "python",
   "name": "python3"
  },
  "language_info": {
   "codemirror_mode": {
    "name": "ipython",
    "version": 3
   },
   "file_extension": ".py",
   "mimetype": "text/x-python",
   "name": "python",
   "nbconvert_exporter": "python",
   "pygments_lexer": "ipython3",
   "version": "3.11.9"
  },
  "orig_nbformat": 4
 },
 "nbformat": 4,
 "nbformat_minor": 2
}
